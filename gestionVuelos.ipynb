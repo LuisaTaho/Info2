{
 "cells": [
  {
   "cell_type": "code",
   "execution_count": 15,
   "metadata": {},
   "outputs": [],
   "source": [
    "class Pasajero:\n",
    "    def __init__(self,nombre,apellido,edad,pasaporte):\n",
    "        self._nombre=nombre\n",
    "        self._apellido=apellido\n",
    "        self._edad=edad\n",
    "        self._pasaporte=pasaporte\n",
    "\n",
    "    def mostrarInformacion(self):\n",
    "        return f\"Pasajero:{self._nombre} {self._apellido}\\ncon pasaporte: {self._pasaporte}\"\n",
    "    \n",
    "class Vuelo:\n",
    "    def __init__(self,numeroVuelo,origen,destino,capacidad):\n",
    "        self.numeroVuelo=numeroVuelo\n",
    "        self.origen=origen\n",
    "        self.destino=destino\n",
    "        self.capacidad=capacidad\n",
    "        self.asientosDisponibles=capacidad\n",
    "        self.reservas=[]\n",
    "\n",
    "    def mostrarInformacion(self):\n",
    "        return f\"El número de vuelo: {self.numeroVuelo} con ruta {self.origen} - {self.destino} y capacidad {self.capacidad}\"\n",
    "    \n",
    "    def reservarVuelo(self,pasajero):\n",
    "        if pasajero in self.reservas:\n",
    "            return \"El pasajero ya tiene una reserva en este vuelo\"\n",
    "        \n",
    "        if self.asientosDisponibles > 0:\n",
    "            self.reservas.append(pasajero)\n",
    "            self.asientosDisponibles-=1\n",
    "            return \"Su reserva fue exitosa\"\n",
    "        else:\n",
    "            return \"No hay asientos disponibles en ese objeto\"\n",
    "\n",
    "    \n",
    "\n",
    "  \n",
    "\n",
    "    "
   ]
  },
  {
   "cell_type": "code",
   "execution_count": 10,
   "metadata": {},
   "outputs": [
    {
     "name": "stdout",
     "output_type": "stream",
     "text": [
      "Ana\n",
      "Pasajero:Ana Villada\n",
      "con pasaporte: CD123\n"
     ]
    }
   ],
   "source": [
    "pasajero1=Pasajero(\"Ana\",\"Villada\",35,\"CD123\")\n",
    "print(pasajero1._nombre)\n",
    "print(pasajero1.mostrarInformacion())\n"
   ]
  },
  {
   "cell_type": "code",
   "execution_count": 16,
   "metadata": {},
   "outputs": [
    {
     "name": "stdout",
     "output_type": "stream",
     "text": [
      "El número de vuelo: AJ123 con ruta Medellin - Bucaramanga y capacidad 30\n"
     ]
    }
   ],
   "source": [
    "vuelo1=Vuelo(\"AJ123\",\"Medellin\",\"Bucaramanga\",30)\n",
    "print( vuelo1.mostrarInformacion())"
   ]
  }
 ],
 "metadata": {
  "kernelspec": {
   "display_name": "Python 3",
   "language": "python",
   "name": "python3"
  },
  "language_info": {
   "codemirror_mode": {
    "name": "ipython",
    "version": 3
   },
   "file_extension": ".py",
   "mimetype": "text/x-python",
   "name": "python",
   "nbconvert_exporter": "python",
   "pygments_lexer": "ipython3",
   "version": "3.11.3"
  },
  "orig_nbformat": 4
 },
 "nbformat": 4,
 "nbformat_minor": 2
}
