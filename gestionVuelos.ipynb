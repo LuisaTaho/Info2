{
 "cells": [
  {
   "cell_type": "markdown",
   "metadata": {},
   "source": [
    "Creación de clases"
   ]
  },
  {
   "cell_type": "code",
   "execution_count": 35,
   "metadata": {},
   "outputs": [],
   "source": [
    "class Pasajero:\n",
    "    def __init__(self,nombre,apellido,edad,pasaporte):\n",
    "        self._nombre=nombre\n",
    "        self._apellido=apellido\n",
    "        self._edad=edad\n",
    "        self._pasaporte=pasaporte\n",
    "\n",
    "    def mostrarInformacion(self):\n",
    "        return f\"Pasajero:{self._nombre} {self._apellido}\\ncon pasaporte: {self._pasaporte}\"\n",
    "\n",
    " #Creación de clase vuelo   \n",
    "class Vuelo:\n",
    "    def __init__(self,numeroVuelo,origen,destino,capacidad):\n",
    "        self.numeroVuelo=numeroVuelo\n",
    "        self.origen=origen\n",
    "        self.destino=destino\n",
    "        self.capacidad=capacidad\n",
    "        self.asientosDisponibles=capacidad\n",
    "        self.reservas=[]\n",
    "#Creación de método para mostrar información\n",
    "    def mostrarInformacion(self):\n",
    "        return f\"El número de vuelo es: {self.numeroVuelo} con ruta {self.origen} {self.destino} y con capacidad de {self.capacidad} pasajeros\"\n",
    "    \n",
    "    def reservarVuelo(self,pasajero):\n",
    "        if pasajero in self.reservas:\n",
    "            return \"El pasajero ya tiene una reserva en este vuelo\" \n",
    "        if self.asientosDisponibles > 0:\n",
    "            self.reservas.append(pasajero)\n",
    "            self.asientosDisponibles-=1\n",
    "            return \"Su reserva fue exitosa\"\n",
    "        else:\n",
    "            return \"No hay asientos disponibles en ese objeto\"\n",
    "\n",
    "   #Método para cancelar la reserva\n",
    "    def cancelarReserva(self,pasajero):\n",
    "        if pasajero in self.reservas:\n",
    "            self.reservas.remove(pasajero)\n",
    "            self.asientosDisponibles +=1\n",
    "            return f\"La reserva del pasajero {pasajero.nombre}{pasajero.apellido}\"\n",
    "        else:\n",
    "            return f\"El pasajero {pasajero.nombre} {pasajero.apellido} no tiene reservas\"\n",
    "\n",
    " #Creación de la clase para gestionar las reservas\n",
    "class reservaVuelos:\n",
    "    def __init__(self):\n",
    "        self.vuelosDisponibles=[]\n",
    "    def agregarVuelo(self,vuelo):\n",
    "        if vuelo in self.vuelosDisponibles:\n",
    "            return f\"Ese vuelo ya ha sido agregado\"\n",
    "        else:\n",
    "            self.vuelosDisponibles.append(vuelo)\n",
    "            return f\"El vuelo número {vuelo.numero} ha sido añadido exitosamente\"\n",
    "    def buscarVuelo(self,numeroVuelo):\n",
    "        for i in self.vuelosDisponibles: #vuelo podría ser una i, no es el objeto.\n",
    "            if i.numero==numeroVuelo:\n",
    "                return i.mostrarInformacion()\n",
    "            else:\n",
    "                return None\n",
    "    def vuelosdisponibles(self):\n",
    "        for i in self.vuelosDisponibles:\n",
    "            print(i.mostrarInformacion())\n",
    "            print(\"-------------------------------------\")"
   ]
  },
  {
   "cell_type": "markdown",
   "metadata": {},
   "source": [
    "Reservar y cancelar llevan la misma lógica:\n",
    "Verificar la existencia del vuelo --> (if) existencia global\n",
    "Si existe, eliminarlo o agregarlo --> (else)\n",
    "Para acceder a una lista, usar un for. Siempre que me pregunten reconocer a una persona por un atributo en especial, nombre o número, tengo que recorrer la lista\n"
   ]
  },
  {
   "cell_type": "code",
   "execution_count": 38,
   "metadata": {},
   "outputs": [
    {
     "name": "stdout",
     "output_type": "stream",
     "text": [
      "Luisita\n",
      "Pasajero:Luisita Taho\n",
      "con pasaporte: 1000A25\n"
     ]
    }
   ],
   "source": [
    "pasajero1=Pasajero(\"Luisita\",\"Taho\",21,\"1000A25\")\n",
    "print(pasajero1._nombre)\n",
    "print(pasajero1.mostrarInformacion())\n"
   ]
  },
  {
   "cell_type": "code",
   "execution_count": 40,
   "metadata": {},
   "outputs": [
    {
     "name": "stdout",
     "output_type": "stream",
     "text": [
      "El número de vuelo es: A123 con ruta Yopal Medellín y con capacidad de 20 pasajeros\n"
     ]
    }
   ],
   "source": [
    "vuelo1=Vuelo(3333,\"Yopal\",\"Medellín\",20)\n",
    "print(vuelo1.mostrarInformacion())"
   ]
  },
  {
   "cell_type": "code",
   "execution_count": 46,
   "metadata": {},
   "outputs": [
    {
     "ename": "AttributeError",
     "evalue": "'Vuelo' object has no attribute 'numero'",
     "output_type": "error",
     "traceback": [
      "\u001b[1;31m---------------------------------------------------------------------------\u001b[0m",
      "\u001b[1;31mAttributeError\u001b[0m                            Traceback (most recent call last)",
      "Cell \u001b[1;32mIn[46], line 2\u001b[0m\n\u001b[0;32m      1\u001b[0m reserva\u001b[39m=\u001b[39mreservaVuelos()\n\u001b[1;32m----> 2\u001b[0m \u001b[39mprint\u001b[39m(reserva\u001b[39m.\u001b[39;49magregarVuelo(vuelo1))\n",
      "Cell \u001b[1;32mIn[35], line 52\u001b[0m, in \u001b[0;36mreservaVuelos.agregarVuelo\u001b[1;34m(self, vuelo)\u001b[0m\n\u001b[0;32m     50\u001b[0m \u001b[39melse\u001b[39;00m:\n\u001b[0;32m     51\u001b[0m     \u001b[39mself\u001b[39m\u001b[39m.\u001b[39mvuelosDisponibles\u001b[39m.\u001b[39mappend(vuelo)\n\u001b[1;32m---> 52\u001b[0m     \u001b[39mreturn\u001b[39;00m \u001b[39mf\u001b[39m\u001b[39m\"\u001b[39m\u001b[39mEl vuelo número \u001b[39m\u001b[39m{\u001b[39;00mvuelo\u001b[39m.\u001b[39mnumero\u001b[39m}\u001b[39;00m\u001b[39m ha sido añadido exitosamente\u001b[39m\u001b[39m\"\u001b[39m\n",
      "\u001b[1;31mAttributeError\u001b[0m: 'Vuelo' object has no attribute 'numero'"
     ]
    }
   ],
   "source": [
    "reserva=reservaVuelos()\n",
    "print(reserva.agregarVuelo(vuelo1))"
   ]
  }
 ],
 "metadata": {
  "kernelspec": {
   "display_name": "Python 3",
   "language": "python",
   "name": "python3"
  },
  "language_info": {
   "codemirror_mode": {
    "name": "ipython",
    "version": 3
   },
   "file_extension": ".py",
   "mimetype": "text/x-python",
   "name": "python",
   "nbconvert_exporter": "python",
   "pygments_lexer": "ipython3",
   "version": "3.10.9"
  },
  "orig_nbformat": 4
 },
 "nbformat": 4,
 "nbformat_minor": 2
}
